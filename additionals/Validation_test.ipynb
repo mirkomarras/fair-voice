{
 "cells": [
  {
   "cell_type": "code",
   "execution_count": 61,
   "metadata": {},
   "outputs": [],
   "source": [
    "import pandas as pd\n",
    "import seaborn as sns\n",
    "import numpy as np\n",
    "import matplotlib.pyplot as plt\n",
    "import os\n",
    "import librosa\n",
    "import pandas as pd\n",
    "from sklearn.metrics import roc_curve,roc_auc_score\n",
    "import matplotlib.pyplot as plt"
   ]
  },
  {
   "cell_type": "code",
   "execution_count": 62,
   "metadata": {},
   "outputs": [],
   "source": [
    "data=pd.read_csv(\"C:/Users/M1/Desktop/result/result_english.csv\");"
   ]
  },
  {
   "cell_type": "code",
   "execution_count": 138,
   "metadata": {},
   "outputs": [],
   "source": [
    "def calculate_eer(y,y_score):\n",
    "    far, tpr, thresholds = roc_curve(y, y_score, pos_label=1)\n",
    "    frr= 1- tpr\n",
    "    abs_diffs = np.abs(far - frr)\n",
    "    min_index = np.argmin(abs_diffs)\n",
    "    eer = np.mean((far[min_index], frr[min_index]))\n",
    "    thresh=thresholds[min_index]\n",
    "    return  far[min_index],frr[min_index]"
   ]
  },
  {
   "cell_type": "code",
   "execution_count": 139,
   "metadata": {},
   "outputs": [],
   "source": [
    "data_o=data[data.age_1=='old'];\n",
    "data_fm=data[data.gender_1=='female'];\n",
    "data_ml=data[data.gender_1=='male'];\n",
    "data_o_ml=data_o[data_o.gender_1=='male'];\n",
    "data_o_fm=data_o[data_o.gender_1=='female'];\n",
    "similarity_ml=data_ml.loc[:,'simlarity'];\n",
    "similarity_fm=data_fm.loc[:,'simlarity'];\n",
    "similarity_o=data_o.loc[:,'simlarity'];\n",
    "similarity_o_ml=data_o_ml.loc[:,'simlarity'];\n",
    "similarity_o_fm=data_o_fm.loc[:,'simlarity'];\n",
    "data_y=data[data.age_1=='young'];\n",
    "data_y_ml=data_y[data_y.gender_1=='male'];\n",
    "data_y_fm=data_y[data_y.gender_1=='female'];\n",
    "similarity_y=data_y.loc[:,'simlarity'];\n",
    "similarity_y_ml=data_y_ml.loc[:,'simlarity'];\n",
    "similarity_y_fm=data_y_fm.loc[:,'simlarity'];"
   ]
  },
  {
   "cell_type": "code",
   "execution_count": 145,
   "metadata": {},
   "outputs": [],
   "source": [
    "def calculate_frr_far(data):\n",
    "    lista_u=[]\n",
    "    for aud in data.audio_1:\n",
    "        lista_u.append(aud[0:7])\n",
    "    lista_u=set(lista_u)\n",
    "    l=list(lista_u)\n",
    "    ls_p_us=[]\n",
    "    for us in lista_u:\n",
    "        ls_p_us.append(data[data.audio_1.str.contains(us)])\n",
    "    list_frr=[]\n",
    "    list_far=[]\n",
    "    for usr in ls_p_us:                    \n",
    "        similarity=usr.loc[:,'simlarity'];\n",
    "        label=usr.loc[:,'label'];\n",
    "        far,frr=calculate_eer(label,similarity);\n",
    "        list_frr.append(frr);\n",
    "        list_far.append(far);\n",
    "    return list_frr,list_far"
   ]
  },
  {
   "cell_type": "code",
   "execution_count": 146,
   "metadata": {},
   "outputs": [],
   "source": [
    "frr_fm,far_fm=calculate_frr_far(data_fm)\n",
    "frr_ml,far_ml=calculate_frr_far(data_ml)"
   ]
  },
  {
   "cell_type": "code",
   "execution_count": 144,
   "metadata": {},
   "outputs": [
    {
     "name": "stdout",
     "output_type": "stream",
     "text": [
      "stat=-3.326, p=0.001\n",
      "Probably different distributions\n"
     ]
    }
   ],
   "source": [
    "from scipy.stats import ttest_rel\n",
    "data1=similarity_y;\n",
    "data2=similarity_o;\n",
    "stat, p = ttest_rel(data1, data2)\n",
    "print('stat=%.3f, p=%.3f' % (stat, p))\n",
    "if p > 0.05:\n",
    "\tprint('Probably the same distribution')\n",
    "else:\n",
    "\tprint('Probably different distributions')"
   ]
  }
 ],
 "metadata": {
  "kernelspec": {
   "display_name": "Python 3",
   "language": "python",
   "name": "python3"
  },
  "language_info": {
   "codemirror_mode": {
    "name": "ipython",
    "version": 3
   },
   "file_extension": ".py",
   "mimetype": "text/x-python",
   "name": "python",
   "nbconvert_exporter": "python",
   "pygments_lexer": "ipython3",
   "version": "3.7.3"
  }
 },
 "nbformat": 4,
 "nbformat_minor": 2
}
